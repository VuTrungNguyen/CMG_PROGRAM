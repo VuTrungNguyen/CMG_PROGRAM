{
 "cells": [
  {
   "cell_type": "code",
   "execution_count": 1,
   "id": "ODKQvYRXuJpU",
   "metadata": {
    "colab": {
     "base_uri": "https://localhost:8080/"
    },
    "executionInfo": {
     "elapsed": 21482,
     "status": "ok",
     "timestamp": 1717519317173,
     "user": {
      "displayName": "Trung Nguyễn Vũ",
      "userId": "02158753298940026143"
     },
     "user_tz": -600
    },
    "id": "ODKQvYRXuJpU",
    "outputId": "7b8f5322-81de-4e4d-e4a1-9602d4c84247"
   },
   "outputs": [],
   "source": [
    "!pip -q install openai"
   ]
  },
  {
   "cell_type": "code",
   "execution_count": 2,
   "id": "zplM_i2ln267",
   "metadata": {
    "colab": {
     "base_uri": "https://localhost:8080/"
    },
    "executionInfo": {
     "elapsed": 18489,
     "status": "ok",
     "timestamp": 1717519335659,
     "user": {
      "displayName": "Trung Nguyễn Vũ",
      "userId": "02158753298940026143"
     },
     "user_tz": -600
    },
    "id": "zplM_i2ln267",
    "outputId": "742fb1f4-d814-403f-b6c3-6ed7954ab90f"
   },
   "outputs": [],
   "source": [
    "import requests\n",
    "import http,json\n",
    "import openai\n",
    "import os\n",
    "import pandas as pd\n",
    "from datetime import datetime\n",
    "\n",
    "# import local library\n",
    "import sys\n",
    "from GPTCall import ask_chatgpt\n",
    "from SaveExcel_v2 import update_sheet_preserving_format, update_list_sheets_preserving_format"
   ]
  },
  {
   "cell_type": "code",
   "execution_count": 3,
   "id": "74993004-9379-45a3-b028-765945ce7e02",
   "metadata": {},
   "outputs": [],
   "source": [
    "mypath = r\"NIT6001/CMG_prog_v3/\"\n",
    "myfile = r\"Cognitive Map Graph Processing v4 2024.03.14.xlsx\"\n",
    "process_knowledge_filename = r\"CMG_article_process_knowledge.xlsx\"\n",
    "\n",
    "# Use os.path.join to create the full paths\n",
    "process_knowledge_file_fullpath = os.path.join(mypath, process_knowledge_filename.lstrip('/'))\n",
    "myexcelfile = os.path.join(mypath, myfile.lstrip('/'))"
   ]
  },
  {
   "cell_type": "code",
   "execution_count": 5,
   "id": "4f7a4116-4dc4-4e93-b764-8409cc2092ec",
   "metadata": {
    "colab": {
     "base_uri": "https://localhost:8080/",
     "height": 35
    },
    "executionInfo": {
     "elapsed": 10,
     "status": "ok",
     "timestamp": 1717519369389,
     "user": {
      "displayName": "Trung Nguyễn Vũ",
      "userId": "02158753298940026143"
     },
     "user_tz": -600
    },
    "id": "4f7a4116-4dc4-4e93-b764-8409cc2092ec",
    "outputId": "84ad0444-be74-4d64-973b-499b30e0de60",
    "tags": []
   },
   "outputs": [
    {
     "data": {
      "application/vnd.google.colaboratory.intrinsic+json": {
       "type": "string"
      },
      "text/plain": [
       "'/content/drive/Othercomputers/My Laptop/NIT6001/CMG_dataset/MSDManual/Cognitive Map Graph Processing v4 2024.03.14.xlsx'"
      ]
     },
     "execution_count": 5,
     "metadata": {},
     "output_type": "execute_result"
    }
   ],
   "source": [
    "myexcelfile"
   ]
  },
  {
   "cell_type": "code",
   "execution_count": 4,
   "id": "54cdd905-5f1c-49f9-8e33-264311f5fa4e",
   "metadata": {
    "colab": {
     "base_uri": "https://localhost:8080/",
     "height": 35
    },
    "executionInfo": {
     "elapsed": 8,
     "status": "ok",
     "timestamp": 1717519369389,
     "user": {
      "displayName": "Trung Nguyễn Vũ",
      "userId": "02158753298940026143"
     },
     "user_tz": -600
    },
    "id": "54cdd905-5f1c-49f9-8e33-264311f5fa4e",
    "outputId": "63d2cf56-c9ca-4d28-e369-c95d7f6968b4",
    "tags": []
   },
   "outputs": [
    {
     "data": {
      "text/plain": [
       "'NIT6001/CMG_prog_v3/CMG_article_process_knowledge.xlsx'"
      ]
     },
     "execution_count": 4,
     "metadata": {},
     "output_type": "execute_result"
    }
   ],
   "source": [
    "process_knowledge_file_fullpath"
   ]
  },
  {
   "cell_type": "code",
   "execution_count": null,
   "id": "383b6082-86ee-4ad9-a10f-f427d77b1235",
   "metadata": {},
   "outputs": [],
   "source": [
    "# Test if the excelfile can be loaded"
   ]
  },
  {
   "cell_type": "code",
   "execution_count": 7,
   "id": "da924142-a2c6-4125-9982-dd0565001471",
   "metadata": {
    "executionInfo": {
     "elapsed": 8,
     "status": "ok",
     "timestamp": 1717519369389,
     "user": {
      "displayName": "Trung Nguyễn Vũ",
      "userId": "02158753298940026143"
     },
     "user_tz": -600
    },
    "id": "da924142-a2c6-4125-9982-dd0565001471",
    "tags": []
   },
   "outputs": [],
   "source": [
    "def keyfunction_readme():\n",
    "    i=i\n",
    "    # key function steps\n",
    "    #-------------------------------------\n",
    "\n",
    "    # 1.  In mypath folder, there is an excel file called Cognitive Map Graph Processing v3 2024.02.14.xlsx\n",
    "    # 2.  The excel file has three sheets: articles, paragraphs, and sentences\n",
    "        # Sheet name: paragraphs\n",
    "        #Columns: ['ID', 'Paragraph text', 'url', 'category labels', 'summarised key points in simple sentences', 'processing user', 'processing date']\n",
    "\n",
    "        #Sheet name: sentences\n",
    "        #Columns: ['ID', 'paragraph ID', 'CMG Auto with GPT', 'CMG by Human Expert', 'Justification of the correction', 'processing user', 'processing date', 'correction user', 'corrction date']\n",
    "\n",
    "    # 3. Read the articles to a dataframe called df_article, run through it row by row, call ChatGPT API,\n",
    "    #     if the row processed is not yes, then, ask gpt to group it into major paragraphs and sub pagragphs, add to paragraph df\n",
    "    #      #Columns: Article ID\tFull text\turl\tcategory labels\tprocessed\tprocessing user\tprocessing date\n",
    "\n",
    "    # updated on 7/May 2024\n",
    "    # 1 read api_key and processing knowledge (promnpt) from an excel file, easier to edit\n",
    "    # 2. saveExcel to v2, which can save multiple sheets in one call\n",
    "    # 3. GPTcall allow parameter to change model, tempearture and max_tokens\n",
    "\n",
    "def main():\n",
    "    print (\"main function started \\n--------------------\")\n",
    "\n",
    "\n",
    "    df_paragraphs = pd.read_excel(myexcelfile, sheet_name='paragraphs')\n",
    "    df_articles = pd.read_excel(myexcelfile, sheet_name='articles')\n",
    "\n",
    "    row_start=7;    row_end=9 # end is 0 means to the end\n",
    "    df_paragraphs, df_articles=group_paragraphs(df_paragraphs,  df_articles, row_start, row_end)\n",
    "\n",
    "    data_sheets = [('paragraphs', df_paragraphs), ('articles', df_articles)]\n",
    "    update_list_sheets_preserving_format(myexcelfile, data_sheets)\n",
    "    # both works\n",
    "    #update_sheet_preserving_format(myexcelfile, 'paragraphs', df_paragraphs)\n",
    "    #update_sheet_preserving_format(myexcelfile, 'articles', df_articles)\n",
    "\n",
    "\n",
    "def check_excelfile_info(myexcelfile):\n",
    "# check the sheet names and columns in the excel file\n",
    "     # Iterate through all sheets\n",
    "    print(myexcelfile)\n",
    "    xls = pd.ExcelFile(myexcelfile)\n",
    "\n",
    "    for sheet_name in xls.sheet_names:\n",
    "        # Read each sheet\n",
    "        df = pd.read_excel(xls, sheet_name)\n",
    "\n",
    "        # Print the sheet name and its columns\n",
    "        print(f\"Sheet name: {sheet_name}\")\n",
    "        print(\"Columns:\", df.columns.tolist())\n",
    "\n",
    "def testjson():\n",
    "    jsonstr=\"\"\"json {\n",
    "        \"article_label\": \"Pressure Injuries Overview\",\n",
    "        \"paragraphs\": [\n",
    "            {\n",
    "            \"label\": \"Definition and Causes of Pressure Injuries, Risk Factors for Pressure Injuries\",\n",
    "            \"original text\": \"......\"\n",
    "            },\n",
    "\n",
    "            {\n",
    "            \"label\": \"test 4\",\n",
    "            \"original text\": \"......\"\n",
    "            },\n",
    "\n",
    "\n",
    "            {\n",
    "            \"label\": \"test 3\",\n",
    "            \"original text\": \"....\n",
    "\n",
    "        \"\"\"\n",
    "    return jsonstr\n",
    "\n",
    "def group_paragraphs_prompt():\n",
    "    # no longer use this prompt; read prompts from the knowledge excel file\n",
    "    \"\"\"\n",
    "    The prompt structure should follow\n",
    "    \"\"\"\n",
    "\n",
    "    df = pd.read_excel(process_knowledge_file_fullpath, sheet_name=\"knowledge\", engine='openpyxl')\n",
    "    filtered_df = df[(df['knowledge_area'] == \"step1_group_paragraphs\")]\n",
    "    if filtered_df.empty:\n",
    "        myprompt=\"Could not read the knowledge on step1_group_paragraphs.\\n\"\n",
    "    else:\n",
    "        myprompt = '\\n'.join(filtered_df['knowledge'].astype(str))\n",
    "    return myprompt +\"\\n Here is the article content:\"\n",
    "\n",
    "def group_paragraphs(df_paragraphs,  df_articles, row_start, row_end):\n",
    "    print(\"\\n group_paragraphs function \\n --------------------------------------\")\n",
    "    myprompt=group_paragraphs_prompt()\n",
    "    print(myprompt)\n",
    "    \"\"\"\n",
    "    response_text = testjson()\n",
    "    print(response_text)\n",
    "    article_id=5\n",
    "    df_paragraphs, article_label=parse_paragraphs_json(response_text,article_id,df_paragraphs)\n",
    "    print(article_label)\n",
    "    \"\"\"\n",
    "\n",
    "    if row_end == 0:   row_end = df_articles.index[-1]\n",
    "    for index in range(row_start, row_end + 1):\n",
    "        if index > df_articles.index[-1]:  # Check to ensure index is within DataFrame bounds\n",
    "            break  # Exit the loop if index exceeds the number of rows in the DataFrame\n",
    "\n",
    "        # Access row by index\n",
    "        row = df_articles.iloc[index]\n",
    "        article_id=row['Article ID']\n",
    "        fulltext = str(row['Full text'])\n",
    "        processed_flag = row['processed']\n",
    "        #askgptcontent=myprompt+fulltext\n",
    "\n",
    "\n",
    "        # Proceed if processed is not 'yes' and fulltext is not empty\n",
    "        if processed_flag!='Yes'and fulltext and fulltext.lower() != 'nan':\n",
    "            response_text = ask_chatgpt(myprompt, fulltext)\n",
    "            print(\"-------response_text-----------------------\")\n",
    "            print(response_text)\n",
    "\n",
    "            # Update the DataFrame with the response\n",
    "            df_paragraphs, article_label=parse_paragraphs_json(response_text,article_id,df_paragraphs)\n",
    "            df_articles.loc[index, 'processed'] = 'Yes'\n",
    "            df_articles.loc[index, 'category labels'] = article_label\n",
    "            df_articles.loc[index, 'json str'] = response_text\n",
    "\n",
    "    return df_paragraphs,df_articles\n",
    "\n",
    "import re\n",
    "\n",
    "\n",
    "def find_complete_pairs(json_str):\n",
    "    match = re.search(r'\"article_label\":\\s*\"(.*?)\"', json_str)  # the returned string may not have a complete json structure; use re to find the related components\n",
    "    if match:  summary_label = match.group(1)\n",
    "    else:      summary_label =\"Summary label not found.\"\n",
    "\n",
    "    pattern = r'\\{\\s*\"label\"\\s*:\\s*(?:\\[.*?\\]|\".*?\")\\s*,\\s*\"new paragraph\"\\s*:\\s*\".*?\"\\s*\\}'\n",
    "    matches = re.findall(pattern, json_str, re.DOTALL)\n",
    "    print(\"here are found maches strings: \\n---------------------\\n\", matches)\n",
    "    # Attempt to parse each match as JSON directly into dictionaries\n",
    "    complete_pairs = []\n",
    "    for match in matches:\n",
    "        try:\n",
    "            # Each match is expected to be a valid JSON string\n",
    "            pair_dict = json.loads(match)\n",
    "            complete_pairs.append(pair_dict)\n",
    "        except json.JSONDecodeError as e:\n",
    "            print(f\"Error parsing JSON from match: {e}\")\n",
    "\n",
    "    return complete_pairs, summary_label\n",
    "\n",
    "def parse_paragraphs_json(response_text, article_id, df_paragraphs):\n",
    "    completed_pairs, article_label = find_complete_pairs(response_text)\n",
    "\n",
    "    #print(\"Found total \", len(completed_pairs), \"completed paragraphs in json string.\")\n",
    "    #print (\"completed pairs are: \", completed_pairs)\n",
    "    if df_paragraphs.empty:   last_id = 0\n",
    "    else:                     last_id = df_paragraphs['ID'].max()\n",
    "\n",
    "    for paragraph in completed_pairs:  # Now 'paragraph' is already a dictionary\n",
    "        if isinstance(paragraph, dict):\n",
    "            label = paragraph.get(\"label\", \"\")\n",
    "            new_paragraph = paragraph.get(\"new paragraph\", \"\")\n",
    "            # Continue processing\n",
    "        else:\n",
    "            label = \"Unexpected data format error\"\n",
    "            new_paragraph = paragraph\n",
    "\n",
    "        last_id += 1\n",
    "        new_row = pd.DataFrame({\n",
    "            'ID': [last_id],\n",
    "            'Article ID': [article_id],\n",
    "            'category labels': [label],\n",
    "            'Paragraph text': [new_paragraph]\n",
    "        })\n",
    "        df_paragraphs = pd.concat([df_paragraphs, new_row], ignore_index=True)\n",
    "\n",
    "    return df_paragraphs, article_label"
   ]
  },
  {
   "cell_type": "code",
   "execution_count": 8,
   "id": "710e8a74-5d69-4992-ac51-eaec76f8dfb0",
   "metadata": {
    "colab": {
     "base_uri": "https://localhost:8080/"
    },
    "executionInfo": {
     "elapsed": 81616,
     "status": "ok",
     "timestamp": 1717519546408,
     "user": {
      "displayName": "Trung Nguyễn Vũ",
      "userId": "02158753298940026143"
     },
     "user_tz": -600
    },
    "id": "710e8a74-5d69-4992-ac51-eaec76f8dfb0",
    "outputId": "8578e23d-d30d-47dd-fd73-064beb912ad1"
   },
   "outputs": [
    {
     "name": "stdout",
     "output_type": "stream",
     "text": [
      "main function started \n",
      "--------------------\n",
      "\n",
      " group_paragraphs function \n",
      " --------------------------------------\n",
      "Let's work this out in a step by step way to be sure we have the right answer.\n",
      "<instruction>\n",
      "Group the following article content into paragraphs. Citations referred will be added into paragraphs at the point of reference.\n",
      "Each paragraph can have a few labels. Labels represent the category and key info of the article.\n",
      "</instruction>\n",
      "<format>\n",
      "Paragraphs should maintain natural language form.\n",
      "The labels are in a quoted string, using a comma to separate different labels. \n",
      "Labels should have full meaning, because each paragraph will be processed independently. For example, clinic observation is not a good label; 'Acute kidney injury clinic observation' is a clear label. \n",
      "Give json as the output, in this structure {\"article_label\": summary label, \"patient_summary\": {patient_summary}, \"paragraphs\": [{\"label\": ****, \"new paragraph\": ***},{\"label\": ****, \"new paragraph\": ***},...]}\n",
      "</format>\n",
      "<constraint>\n",
      "Do not use pronouns.\n",
      "If the content is too long or for whatever reason, make sure the json is completed. For example, if your output is limited to 8192 characters, and the content has more than that, make sure the output json is properly closed.  You can add into the label that the content has not been completed because of the character limits. \n",
      "Answer only the json, do not provide other content. My program will parse your returned json.\n",
      "Use the same language as the article content.\n",
      "</constraint>\n",
      "<reminder>\n",
      "Adhere to {format}, {constraint} when performing {instruction}\n",
      "</reminder>\n",
      " Here is the article content:\n",
      "-------response_text-----------------------\n",
      "```json\n",
      "{\n",
      "  \"article_label\": \"Ischemic Colitis Overview\",\n",
      "  \"patient_summary\": {\n",
      "    \"condition\": \"Ischemic Colitis\",\n",
      "    \"symptoms\": [\"left lower quadrant pain\", \"rectal bleeding\"],\n",
      "    \"diagnosis_methods\": [\"CT\", \"colonoscopy\"],\n",
      "    \"treatment\": [\"IV fluids\", \"bowel rest\", \"antibiotics\", \"rarely surgery\"]\n",
      "  },\n",
      "  \"paragraphs\": [\n",
      "    {\n",
      "      \"label\": \"Definition and General Information of Ischemic Colitis, Causes of Ischemic Colitis\",\n",
      "      \"new paragraph\": \"Ischemic colitis is a transient reduction in blood flow to the colon. Symptoms are left lower quadrant pain and rectal bleeding. Diagnosis is by CT or colonoscopy. Treatment is supportive with IV fluids, bowel rest, and antibiotics. Necrosis may occur but is usually limited to the mucosa and submucosa, only occasionally causing full-thickness necrosis necessitating surgery. Ischemic colitis occurs mainly in older people (> 60) and is thought to be caused by small-vessel atherosclerosis. It can also be a complication of abdominal aortic aneurysm repair.\"\n",
      "    },\n",
      "    {\n",
      "      \"label\": \"Symptoms and Signs of Ischemic Colitis, Comparison with Acute Mesenteric Ischemia\",\n",
      "      \"new paragraph\": \"Symptoms of ischemic colitis are milder and of slower onset than those of acute mesenteric ischemia and consist of left lower quadrant pain followed by rectal bleeding. The pathophysiology and treatment of the two conditions are quite different.\"\n",
      "    },\n",
      "    {\n",
      "      \"label\": \"Diagnostic Methods for Ischemic Colitis\",\n",
      "      \"new paragraph\": \"Diagnosis of ischemic colitis is made by CT or colonoscopy.\"\n",
      "    },\n",
      "    {\n",
      "      \"label\": \"Ischemic Colitis Imaging (CT Scan), Diagnostic Imaging Description\",\n",
      "      \"new paragraph\": \"In this CT scan, the descending colon (top arrow) is thick-walled from the splenic flexure to the proximal sigmoid colon. Note the distal sigmoid colon (bottom arrow) with diverticulosis but without inflammatory or ischemic changes. Image provided by Parswa Ansari, MD.\"\n",
      "    },\n",
      "    {\n",
      "      \"label\": \"Ischemic Colitis Imaging (Colonoscopy), Diagnostic Imaging Description\",\n",
      "      \"new paragraph\": \"In this colonoscopy image, the mucosa is diffusely erythematous and ulcerated, consistent with moderate-to-severe ischemic colitis. Image provided by David M. Martin, MD.\"\n",
      "    },\n",
      "    {\n",
      "      \"label\": \"Treatment Options for Ischemic Colitis, Surgical Intervention Criteria\",\n",
      "      \"new paragraph\": \"Treatment of ischemic colitis is supportive with IV fluids, bowel rest, and antibiotics. The underlying cause of the low-flow state (eg, control of cardiac arrhythmia) is treated if relevant. Surgery is rarely required, unless ischemic colitis is a complication of a vascular procedure or there is full-thickness necrosis. About 5% of patients have a recurrence. Occasionally, strictures develop at the site of the ischemia several weeks later, necessitating surgical resection.\"\n",
      "    }\n",
      "  ]\n",
      "}\n",
      "```\n",
      "here are found maches strings: \n",
      "---------------------\n",
      " ['{\\n      \"label\": \"Definition and General Information of Ischemic Colitis, Causes of Ischemic Colitis\",\\n      \"new paragraph\": \"Ischemic colitis is a transient reduction in blood flow to the colon. Symptoms are left lower quadrant pain and rectal bleeding. Diagnosis is by CT or colonoscopy. Treatment is supportive with IV fluids, bowel rest, and antibiotics. Necrosis may occur but is usually limited to the mucosa and submucosa, only occasionally causing full-thickness necrosis necessitating surgery. Ischemic colitis occurs mainly in older people (> 60) and is thought to be caused by small-vessel atherosclerosis. It can also be a complication of abdominal aortic aneurysm repair.\"\\n    }', '{\\n      \"label\": \"Symptoms and Signs of Ischemic Colitis, Comparison with Acute Mesenteric Ischemia\",\\n      \"new paragraph\": \"Symptoms of ischemic colitis are milder and of slower onset than those of acute mesenteric ischemia and consist of left lower quadrant pain followed by rectal bleeding. The pathophysiology and treatment of the two conditions are quite different.\"\\n    }', '{\\n      \"label\": \"Diagnostic Methods for Ischemic Colitis\",\\n      \"new paragraph\": \"Diagnosis of ischemic colitis is made by CT or colonoscopy.\"\\n    }', '{\\n      \"label\": \"Ischemic Colitis Imaging (CT Scan), Diagnostic Imaging Description\",\\n      \"new paragraph\": \"In this CT scan, the descending colon (top arrow) is thick-walled from the splenic flexure to the proximal sigmoid colon. Note the distal sigmoid colon (bottom arrow) with diverticulosis but without inflammatory or ischemic changes. Image provided by Parswa Ansari, MD.\"\\n    }', '{\\n      \"label\": \"Ischemic Colitis Imaging (Colonoscopy), Diagnostic Imaging Description\",\\n      \"new paragraph\": \"In this colonoscopy image, the mucosa is diffusely erythematous and ulcerated, consistent with moderate-to-severe ischemic colitis. Image provided by David M. Martin, MD.\"\\n    }', '{\\n      \"label\": \"Treatment Options for Ischemic Colitis, Surgical Intervention Criteria\",\\n      \"new paragraph\": \"Treatment of ischemic colitis is supportive with IV fluids, bowel rest, and antibiotics. The underlying cause of the low-flow state (eg, control of cardiac arrhythmia) is treated if relevant. Surgery is rarely required, unless ischemic colitis is a complication of a vascular procedure or there is full-thickness necrosis. About 5% of patients have a recurrence. Occasionally, strictures develop at the site of the ischemia several weeks later, necessitating surgical resection.\"\\n    }']\n",
      "-------response_text-----------------------\n",
      "```json\n",
      "{\n",
      "  \"article_label\": \"Ileus Overview\",\n",
      "  \"patient_summary\": {\n",
      "    \"condition\": \"Ileus\",\n",
      "    \"common_causes\": [\"Abdominal surgery\", \"Inflammation\", \"Hematomas\", \"Metabolic disturbances\", \"Medications\", \"Renal or thoracic disease\"],\n",
      "    \"symptoms\": [\"Abdominal distention\", \"Nausea\", \"Vomiting\", \"Vague discomfort\"],\n",
      "    \"diagnosis_methods\": [\"Clinical evaluation\", \"X-rays\", \"CT scans\"],\n",
      "    \"treatment\": [\"Nasogastric suction\", \"IV fluids\", \"Avoidance of opioids and anticholinergics\"],\n",
      "    \"key_points\": [\"Abdominal surgery is the most common cause\", \"Silent abdomen or minimal peristalsis on auscultation\", \"Important to distinguish from intestinal obstruction\"]\n",
      "  },\n",
      "  \"paragraphs\": [\n",
      "    {\n",
      "      \"label\": \"Ileus Definition, Common Causes\",\n",
      "      \"new paragraph\": \"Ileus is a temporary arrest of intestinal peristalsis. It occurs most commonly after abdominal surgery, particularly when the intestines have been manipulated. Symptoms are nausea, vomiting, and vague abdominal discomfort. Diagnosis is based on x-ray findings and clinical impression. Treatment is supportive, with nasogastric suction and IV fluids.\"\n",
      "    },\n",
      "    {\n",
      "      \"label\": \"Etiology of Ileus, Abdominal Surgery, Inflammation, Hematomas, Metabolic Disturbances, Medications, Renal or Thoracic Disease\",\n",
      "      \"new paragraph\": \"The most common cause of ileus is abdominal surgery. Other causes include intraperitoneal or retroperitoneal inflammation (eg, appendicitis, diverticulitis, perforated duodenal ulcer), retroperitoneal or intra-abdominal hematomas (eg, from ruptured abdominal aortic aneurysm, blunt abdominal trauma), metabolic disturbances (eg, hypokalemia), medications (eg, opioids, anticholinergics, sometimes calcium channel blockers), and sometimes renal or thoracic disease (eg, lower rib fractures, lower lobe pneumonias, myocardial infarction).\"\n",
      "    },\n",
      "    {\n",
      "      \"label\": \"Symptoms and Signs of Ileus, Abdominal Distention, Nausea, Vomiting, Vague Discomfort\",\n",
      "      \"new paragraph\": \"Symptoms and signs of ileus include abdominal distention, nausea, vomiting, and vague discomfort. Pain rarely has the classic colicky pattern present in mechanical bowel obstruction. There may be obstipation or passage of slight amounts of watery stool. Auscultation reveals a silent abdomen or minimal peristalsis. The abdomen is not tender unless the underlying cause is inflammatory.\"\n",
      "    },\n",
      "    {\n",
      "      \"label\": \"Diagnosis of Ileus, Clinical Evaluation, X-rays, Differentiation from Intestinal Obstruction\",\n",
      "      \"new paragraph\": \"The most essential task is to distinguish ileus from intestinal obstruction. In both conditions, abdominal x-rays show gaseous distention of isolated segments of intestine. In postoperative ileus, however, gas may accumulate more in the colon than in the small bowel. Postoperative accumulation of gas in the small bowel often implies development of a complication (eg, obstruction, peritonitis). Sometimes, x-ray findings are similar to those of intestinal obstruction; differentiation can be difficult unless clinical features clearly favor one or the other. A contrast-enhanced CT may help differentiate between the two and suggest an underlying cause of the ileus.\"\n",
      "    },\n",
      "    {\n",
      "      \"label\": \"Treatment of Ileus, Nasogastric Suction, IV Fluids, Avoidance of Opioids and Anticholinergics\",\n",
      "      \"new paragraph\": \"Treatment of ileus involves continuous nasogastric suction, nothing by mouth, IV fluids and electrolytes, a minimal amount of sedatives, and avoidance of opioids and anticholinergic medications. Maintaining an adequate serum potassium level (> 4 mEq/L [> 4.00 mmol/L]) is especially important. Ileus persisting > 1 week probably has a mechanical obstructive cause, and laparotomy should be considered. Sometimes colonic ileus can be relieved by colonoscopic decompression; rarely, cecostomy is required. Colonoscopic decompression is helpful in treating pseudo-obstruction (Ogilvie syndrome), which consists of apparent obstruction at the splenic flexure, although no cause can be found by contrast enema or colonoscopy for the failure of gas and feces to pass this point. Some clinicians use IV neostigmine (which requires cardiac monitoring) to treat Ogilvie syndrome.\"\n",
      "    },\n",
      "    {\n",
      "      \"label\": \"Key Points on Ileus, Abdominal Surgery as Common Cause, Auscultation, Treatment Guidelines\",\n",
      "      \"new paragraph\": \"There are many causes of ileus; abdominal surgery is the most common. Auscultation reveals a silent abdomen or minimal peristalsis. Distinguish ileus from intestinal obstruction. Treat with nasogastric suction and IV fluids. Avoid opioids and anticholinergic medications.\"\n",
      "    }\n",
      "  ]\n",
      "}\n",
      "```\n",
      "here are found maches strings: \n",
      "---------------------\n",
      " ['{\\n      \"label\": \"Ileus Definition, Common Causes\",\\n      \"new paragraph\": \"Ileus is a temporary arrest of intestinal peristalsis. It occurs most commonly after abdominal surgery, particularly when the intestines have been manipulated. Symptoms are nausea, vomiting, and vague abdominal discomfort. Diagnosis is based on x-ray findings and clinical impression. Treatment is supportive, with nasogastric suction and IV fluids.\"\\n    }', '{\\n      \"label\": \"Etiology of Ileus, Abdominal Surgery, Inflammation, Hematomas, Metabolic Disturbances, Medications, Renal or Thoracic Disease\",\\n      \"new paragraph\": \"The most common cause of ileus is abdominal surgery. Other causes include intraperitoneal or retroperitoneal inflammation (eg, appendicitis, diverticulitis, perforated duodenal ulcer), retroperitoneal or intra-abdominal hematomas (eg, from ruptured abdominal aortic aneurysm, blunt abdominal trauma), metabolic disturbances (eg, hypokalemia), medications (eg, opioids, anticholinergics, sometimes calcium channel blockers), and sometimes renal or thoracic disease (eg, lower rib fractures, lower lobe pneumonias, myocardial infarction).\"\\n    }', '{\\n      \"label\": \"Symptoms and Signs of Ileus, Abdominal Distention, Nausea, Vomiting, Vague Discomfort\",\\n      \"new paragraph\": \"Symptoms and signs of ileus include abdominal distention, nausea, vomiting, and vague discomfort. Pain rarely has the classic colicky pattern present in mechanical bowel obstruction. There may be obstipation or passage of slight amounts of watery stool. Auscultation reveals a silent abdomen or minimal peristalsis. The abdomen is not tender unless the underlying cause is inflammatory.\"\\n    }', '{\\n      \"label\": \"Diagnosis of Ileus, Clinical Evaluation, X-rays, Differentiation from Intestinal Obstruction\",\\n      \"new paragraph\": \"The most essential task is to distinguish ileus from intestinal obstruction. In both conditions, abdominal x-rays show gaseous distention of isolated segments of intestine. In postoperative ileus, however, gas may accumulate more in the colon than in the small bowel. Postoperative accumulation of gas in the small bowel often implies development of a complication (eg, obstruction, peritonitis). Sometimes, x-ray findings are similar to those of intestinal obstruction; differentiation can be difficult unless clinical features clearly favor one or the other. A contrast-enhanced CT may help differentiate between the two and suggest an underlying cause of the ileus.\"\\n    }', '{\\n      \"label\": \"Treatment of Ileus, Nasogastric Suction, IV Fluids, Avoidance of Opioids and Anticholinergics\",\\n      \"new paragraph\": \"Treatment of ileus involves continuous nasogastric suction, nothing by mouth, IV fluids and electrolytes, a minimal amount of sedatives, and avoidance of opioids and anticholinergic medications. Maintaining an adequate serum potassium level (> 4 mEq/L [> 4.00 mmol/L]) is especially important. Ileus persisting > 1 week probably has a mechanical obstructive cause, and laparotomy should be considered. Sometimes colonic ileus can be relieved by colonoscopic decompression; rarely, cecostomy is required. Colonoscopic decompression is helpful in treating pseudo-obstruction (Ogilvie syndrome), which consists of apparent obstruction at the splenic flexure, although no cause can be found by contrast enema or colonoscopy for the failure of gas and feces to pass this point. Some clinicians use IV neostigmine (which requires cardiac monitoring) to treat Ogilvie syndrome.\"\\n    }', '{\\n      \"label\": \"Key Points on Ileus, Abdominal Surgery as Common Cause, Auscultation, Treatment Guidelines\",\\n      \"new paragraph\": \"There are many causes of ileus; abdominal surgery is the most common. Auscultation reveals a silent abdomen or minimal peristalsis. Distinguish ileus from intestinal obstruction. Treat with nasogastric suction and IV fluids. Avoid opioids and anticholinergic medications.\"\\n    }']\n",
      "{'error': {'message': 'The server had an error while processing your request. Sorry about that!', 'type': None, 'param': None, 'code': None}}\n",
      "-------response_text-----------------------\n",
      "GPT: An error occurred while processing your request. Please try again.\n",
      "here are found maches strings: \n",
      "---------------------\n",
      " []\n"
     ]
    }
   ],
   "source": [
    "main()"
   ]
  },
  {
   "cell_type": "code",
   "execution_count": null,
   "id": "2uAHJplIIcLB",
   "metadata": {
    "id": "2uAHJplIIcLB"
   },
   "outputs": [],
   "source": []
  }
 ],
 "metadata": {
  "colab": {
   "provenance": []
  },
  "kernelspec": {
   "display_name": "Python (NIT003)",
   "language": "python",
   "name": "nit003"
  },
  "language_info": {
   "codemirror_mode": {
    "name": "ipython",
    "version": 3
   },
   "file_extension": ".py",
   "mimetype": "text/x-python",
   "name": "python",
   "nbconvert_exporter": "python",
   "pygments_lexer": "ipython3",
   "version": "3.9.18"
  }
 },
 "nbformat": 4,
 "nbformat_minor": 5
}
