{
 "cells": [
  {
   "cell_type": "code",
   "execution_count": null,
   "metadata": {},
   "outputs": [],
   "source": [
    "import csv\n",
    "import json\n",
    "import re\n",
    "\n",
    "# Path to the uploaded file\n",
    "file_path = 'US_qbank.jsonl'\n",
    "output_csv = 'output_questions.csv'\n",
    "\n",
    "def fix_encoding(text):\n",
    "    try:\n",
    "        # Try to encode the text as latin1 and decode it back as utf-8\n",
    "        return text.encode('latin1').decode('utf-8')\n",
    "    except (UnicodeEncodeError, UnicodeDecodeError):\n",
    "        # If it fails, return the text as is\n",
    "        return text\n",
    "    \n",
    "# Load the dataset\n",
    "asthma_questions = []\n",
    "\n",
    "try:\n",
    "    with open(file_path, 'r', encoding='utf-8') as f:\n",
    "        for line in f:\n",
    "            line = fix_encoding(line)\n",
    "            question = json.loads(line)\n",
    "            # Check if the word 'asthma' appears in the question text (case-insensitive)\n",
    "            if 'endoscopy' in question['question'].lower():\n",
    "                asthma_questions.append(question)\n",
    "except UnicodeDecodeError:\n",
    "    print(\"Encoding error: The file may contain non-UTF-8 encoded characters.\")\n",
    "\n",
    "# Output the first few asthma-related questions and total count\n",
    "print(asthma_questions[:5], len(asthma_questions))  # Show first 5 entries and total count\n",
    "\n",
    "# Write the asthma-related questions to CSV\n",
    "with open(output_csv, 'w', newline='', encoding='utf-8') as csvfile:\n",
    "    fieldnames = ['question', 'answer_detail', 'answer']  # Adjust field names based on JSON structure\n",
    "    writer = csv.DictWriter(csvfile, fieldnames=fieldnames)\n",
    "    writer.writeheader()\n",
    "    for question in asthma_questions:\n",
    "        options = question.get('options', {})\n",
    "        answer_label = question.get('answer', '').strip()\n",
    "        answer = options.get(answer_label, '') if options else ''\n",
    "        writer.writerow({\n",
    "            'question': question['question'],\n",
    "            'answer_detail': answer,\n",
    "            'answer': answer_label,\n",
    "        })\n",
    "\n",
    "print(f\"Endoscopy-related questions saved to {output_csv}\")\n"
   ]
  },
  {
   "cell_type": "code",
   "execution_count": 9,
   "metadata": {},
   "outputs": [],
   "source": [
    "import csv\n",
    "import json\n",
    "import re\n",
    "import pandas as pd\n",
    "\n",
    "# Path to the uploaded file\n",
    "file_path = 'US_qbank.jsonl'\n",
    "output_csv = 'output_questions.csv'\n",
    "\n",
    "additional_path = 'US_qbank_extracted_phrases.jsonl'"
   ]
  },
  {
   "cell_type": "code",
   "execution_count": 3,
   "metadata": {},
   "outputs": [
    {
     "data": {
      "text/html": [
       "<div>\n",
       "<style scoped>\n",
       "    .dataframe tbody tr th:only-of-type {\n",
       "        vertical-align: middle;\n",
       "    }\n",
       "\n",
       "    .dataframe tbody tr th {\n",
       "        vertical-align: top;\n",
       "    }\n",
       "\n",
       "    .dataframe thead th {\n",
       "        text-align: right;\n",
       "    }\n",
       "</style>\n",
       "<table border=\"1\" class=\"dataframe\">\n",
       "  <thead>\n",
       "    <tr style=\"text-align: right;\">\n",
       "      <th></th>\n",
       "      <th>question</th>\n",
       "      <th>answer</th>\n",
       "      <th>options</th>\n",
       "      <th>meta_info</th>\n",
       "    </tr>\n",
       "  </thead>\n",
       "  <tbody>\n",
       "    <tr>\n",
       "      <th>0</th>\n",
       "      <td>A 4670-g (10-lb 5-oz) male newborn is delivere...</td>\n",
       "      <td>D</td>\n",
       "      <td>{'A': 'Nerve conduction study', 'B': 'Surgical...</td>\n",
       "      <td>step2</td>\n",
       "    </tr>\n",
       "    <tr>\n",
       "      <th>1</th>\n",
       "      <td>A 66-year-old man comes to the physician for a...</td>\n",
       "      <td>F</td>\n",
       "      <td>{'A': 'Cirrhosis', 'B': 'Acute lymphoblastic l...</td>\n",
       "      <td>step2</td>\n",
       "    </tr>\n",
       "    <tr>\n",
       "      <th>2</th>\n",
       "      <td>A 40-year-old man comes to the physician becau...</td>\n",
       "      <td>E</td>\n",
       "      <td>{'A': 'Asphyxia', 'B': 'Achlorhydria', 'C': 'T...</td>\n",
       "      <td>step2</td>\n",
       "    </tr>\n",
       "    <tr>\n",
       "      <th>3</th>\n",
       "      <td>A 4-year-old boy is brought to the emergency d...</td>\n",
       "      <td>E</td>\n",
       "      <td>{'A': 'Get consent from the patient's brother'...</td>\n",
       "      <td>step2</td>\n",
       "    </tr>\n",
       "    <tr>\n",
       "      <th>4</th>\n",
       "      <td>A 9-year-old girl is brought to the emergency ...</td>\n",
       "      <td>C</td>\n",
       "      <td>{'A': 'Oculomotor nerve damage', 'B': 'Retrobu...</td>\n",
       "      <td>step2</td>\n",
       "    </tr>\n",
       "  </tbody>\n",
       "</table>\n",
       "</div>"
      ],
      "text/plain": [
       "                                            question answer  \\\n",
       "0  A 4670-g (10-lb 5-oz) male newborn is delivere...      D   \n",
       "1  A 66-year-old man comes to the physician for a...      F   \n",
       "2  A 40-year-old man comes to the physician becau...      E   \n",
       "3  A 4-year-old boy is brought to the emergency d...      E   \n",
       "4  A 9-year-old girl is brought to the emergency ...      C   \n",
       "\n",
       "                                             options meta_info  \n",
       "0  {'A': 'Nerve conduction study', 'B': 'Surgical...     step2  \n",
       "1  {'A': 'Cirrhosis', 'B': 'Acute lymphoblastic l...     step2  \n",
       "2  {'A': 'Asphyxia', 'B': 'Achlorhydria', 'C': 'T...     step2  \n",
       "3  {'A': 'Get consent from the patient's brother'...     step2  \n",
       "4  {'A': 'Oculomotor nerve damage', 'B': 'Retrobu...     step2  "
      ]
     },
     "execution_count": 3,
     "metadata": {},
     "output_type": "execute_result"
    }
   ],
   "source": [
    "# Load the dataset, see head() to check the structure\n",
    "df = pd.read_json(file_path, lines=True)\n",
    "df.head()"
   ]
  },
  {
   "cell_type": "code",
   "execution_count": 8,
   "metadata": {},
   "outputs": [
    {
     "data": {
      "text/plain": [
       "array(['step2', 'step1'], dtype=object)"
      ]
     },
     "execution_count": 8,
     "metadata": {},
     "output_type": "execute_result"
    }
   ],
   "source": [
    "# meta_info return the type / difficulty of the questions. We will check what types of questions are available by checking the unique values in the meta_info column.\n",
    "df['meta_info'].unique()"
   ]
  },
  {
   "cell_type": "code",
   "execution_count": 10,
   "metadata": {},
   "outputs": [
    {
     "data": {
      "text/html": [
       "<div>\n",
       "<style scoped>\n",
       "    .dataframe tbody tr th:only-of-type {\n",
       "        vertical-align: middle;\n",
       "    }\n",
       "\n",
       "    .dataframe tbody tr th {\n",
       "        vertical-align: top;\n",
       "    }\n",
       "\n",
       "    .dataframe thead th {\n",
       "        text-align: right;\n",
       "    }\n",
       "</style>\n",
       "<table border=\"1\" class=\"dataframe\">\n",
       "  <thead>\n",
       "    <tr style=\"text-align: right;\">\n",
       "      <th></th>\n",
       "      <th>question</th>\n",
       "      <th>answer</th>\n",
       "      <th>options</th>\n",
       "      <th>meta_info</th>\n",
       "      <th>answer_idx</th>\n",
       "      <th>metamap_phrases</th>\n",
       "    </tr>\n",
       "  </thead>\n",
       "  <tbody>\n",
       "    <tr>\n",
       "      <th>0</th>\n",
       "      <td>A 23-year-old pregnant woman at 22 weeks gesta...</td>\n",
       "      <td>Nitrofurantoin</td>\n",
       "      <td>{'A': 'Ampicillin', 'B': 'Ceftriaxone', 'C': '...</td>\n",
       "      <td>step2&amp;3</td>\n",
       "      <td>E</td>\n",
       "      <td>[23 year old, weeks presents, burning, urinati...</td>\n",
       "    </tr>\n",
       "    <tr>\n",
       "      <th>1</th>\n",
       "      <td>A 3-month-old baby died suddenly at night whil...</td>\n",
       "      <td>Placing the infant in a supine position on a f...</td>\n",
       "      <td>{'A': 'Placing the infant in a supine position...</td>\n",
       "      <td>step2&amp;3</td>\n",
       "      <td>A</td>\n",
       "      <td>[3 month old baby died, night, asleep, died on...</td>\n",
       "    </tr>\n",
       "    <tr>\n",
       "      <th>2</th>\n",
       "      <td>A mother brings her 3-week-old infant to the p...</td>\n",
       "      <td>Abnormal migration of ventral pancreatic bud</td>\n",
       "      <td>{'A': 'Abnormal migration of ventral pancreati...</td>\n",
       "      <td>step1</td>\n",
       "      <td>A</td>\n",
       "      <td>[week old infant, pediatrician's office, born,...</td>\n",
       "    </tr>\n",
       "    <tr>\n",
       "      <th>3</th>\n",
       "      <td>A pulmonary autopsy specimen from a 58-year-ol...</td>\n",
       "      <td>Thromboembolism</td>\n",
       "      <td>{'A': 'Thromboembolism', 'B': 'Pulmonary ische...</td>\n",
       "      <td>step1</td>\n",
       "      <td>A</td>\n",
       "      <td>[pulmonary autopsy, 58 year old woman, died, a...</td>\n",
       "    </tr>\n",
       "    <tr>\n",
       "      <th>4</th>\n",
       "      <td>A 20-year-old woman presents with menorrhagia ...</td>\n",
       "      <td>Von Willebrand disease</td>\n",
       "      <td>{'A': 'Factor V Leiden', 'B': 'Hemophilia A', ...</td>\n",
       "      <td>step1</td>\n",
       "      <td>E</td>\n",
       "      <td>[20 year old woman presents, menorrhagia, past...</td>\n",
       "    </tr>\n",
       "  </tbody>\n",
       "</table>\n",
       "</div>"
      ],
      "text/plain": [
       "                                            question  \\\n",
       "0  A 23-year-old pregnant woman at 22 weeks gesta...   \n",
       "1  A 3-month-old baby died suddenly at night whil...   \n",
       "2  A mother brings her 3-week-old infant to the p...   \n",
       "3  A pulmonary autopsy specimen from a 58-year-ol...   \n",
       "4  A 20-year-old woman presents with menorrhagia ...   \n",
       "\n",
       "                                              answer  \\\n",
       "0                                     Nitrofurantoin   \n",
       "1  Placing the infant in a supine position on a f...   \n",
       "2       Abnormal migration of ventral pancreatic bud   \n",
       "3                                    Thromboembolism   \n",
       "4                             Von Willebrand disease   \n",
       "\n",
       "                                             options meta_info answer_idx  \\\n",
       "0  {'A': 'Ampicillin', 'B': 'Ceftriaxone', 'C': '...   step2&3          E   \n",
       "1  {'A': 'Placing the infant in a supine position...   step2&3          A   \n",
       "2  {'A': 'Abnormal migration of ventral pancreati...     step1          A   \n",
       "3  {'A': 'Thromboembolism', 'B': 'Pulmonary ische...     step1          A   \n",
       "4  {'A': 'Factor V Leiden', 'B': 'Hemophilia A', ...     step1          E   \n",
       "\n",
       "                                     metamap_phrases  \n",
       "0  [23 year old, weeks presents, burning, urinati...  \n",
       "1  [3 month old baby died, night, asleep, died on...  \n",
       "2  [week old infant, pediatrician's office, born,...  \n",
       "3  [pulmonary autopsy, 58 year old woman, died, a...  \n",
       "4  [20 year old woman presents, menorrhagia, past...  "
      ]
     },
     "execution_count": 10,
     "metadata": {},
     "output_type": "execute_result"
    }
   ],
   "source": [
    "# There are only step2 and step1 in the df. we will check the additional file to see if there are other types of questions.\n",
    "df_additional = pd.read_json(additional_path, lines=True)\n",
    "df_additional.head()"
   ]
  },
  {
   "cell_type": "code",
   "execution_count": 11,
   "metadata": {},
   "outputs": [
    {
     "data": {
      "text/plain": [
       "array(['step2&3', 'step1'], dtype=object)"
      ]
     },
     "execution_count": 11,
     "metadata": {},
     "output_type": "execute_result"
    }
   ],
   "source": [
    "df_additional['meta_info'].unique()"
   ]
  },
  {
   "cell_type": "code",
   "execution_count": 12,
   "metadata": {},
   "outputs": [
    {
     "name": "stdout",
     "output_type": "stream",
     "text": [
      "                                              question answer  \\\n",
      "9    A 50-year-old man comes to the physician becau...      B   \n",
      "16   A 65-year-old Asian woman comes to the physici...      C   \n",
      "114  A gastroenterology fellow is interested in the...      C   \n",
      "119  A 23-year-old woman with Ehlers-Danlos syndrom...      A   \n",
      "171  A 60-year-old man comes to the physician for a...      D   \n",
      "\n",
      "                                               options meta_info  \n",
      "9    {'A': 'Injection sclerotherapy', 'B': 'Nadolol...     step2  \n",
      "16   {'A': 'Cholesterol embolism', 'B': 'Traumatic ...     step2  \n",
      "114  {'A': 'Random error', 'B': 'Effect modificatio...     step2  \n",
      "119  {'A': 'Arthroscopy', 'B': 'Above knee cast', '...     step2  \n",
      "171  {'A': 'Perform prostate biopsy', 'B': 'Obtain ...     step2   502\n"
     ]
    }
   ],
   "source": [
    "# since step 2 and step 3 are the same, we will ignore the additional file and only use the original file.\n",
    "# query the questions that contain the word 'colonoscopy' or 'endoscopy' or 'sigmoidoscopy' or 'gastro' in the question text. Search is case-insensitive. Search all keywords at once to avoid multiple queries and duplicate results.\n",
    "keywords = ['colonoscopy', 'endoscopy', 'sigmoidoscopy', 'gastro']\n",
    "pattern = '|'.join(keywords)\n",
    "mask = df['question'].str.contains(pattern, case=False)\n",
    "endoscopy_questions = df[mask]\n",
    "\n",
    "# Output the first few endoscopy-related questions and total count\n",
    "print(endoscopy_questions.head(), len(endoscopy_questions))  # Show first 5 entries and total count\n"
   ]
  },
  {
   "cell_type": "code",
   "execution_count": 13,
   "metadata": {},
   "outputs": [
    {
     "name": "stdout",
     "output_type": "stream",
     "text": [
      "Endoscopy-related questions saved to endoscopy_questions.jsonl\n"
     ]
    }
   ],
   "source": [
    "# export the endoscopy-related questions to a jsonl file\n",
    "output_jsonl = 'endoscopy_questions.jsonl'\n",
    "endoscopy_questions.to_json(output_jsonl, orient='records', lines=True)\n",
    "print(f\"Endoscopy-related questions saved to {output_jsonl}\")"
   ]
  },
  {
   "cell_type": "code",
   "execution_count": 14,
   "metadata": {},
   "outputs": [
    {
     "name": "stdout",
     "output_type": "stream",
     "text": [
      "                                            question answer  \\\n",
      "0  A 50-year-old man comes to the physician becau...      B   \n",
      "1  A 65-year-old Asian woman comes to the physici...      C   \n",
      "2  A gastroenterology fellow is interested in the...      C   \n",
      "3  A 23-year-old woman with Ehlers-Danlos syndrom...      A   \n",
      "4  A 60-year-old man comes to the physician for a...      D   \n",
      "\n",
      "                                             options meta_info  \n",
      "0  {'A': 'Injection sclerotherapy', 'B': 'Nadolol...     step2  \n",
      "1  {'A': 'Cholesterol embolism', 'B': 'Traumatic ...     step2  \n",
      "2  {'A': 'Random error', 'B': 'Effect modificatio...     step2  \n",
      "3  {'A': 'Arthroscopy', 'B': 'Above knee cast', '...     step2  \n",
      "4  {'A': 'Perform prostate biopsy', 'B': 'Obtain ...     step2  \n"
     ]
    }
   ],
   "source": [
    "# import the jsonl file to check if the export was successful\n",
    "df_exported = pd.read_json(output_jsonl, lines=True)\n",
    "print(df_exported.head())\n"
   ]
  }
 ],
 "metadata": {
  "kernelspec": {
   "display_name": "Python (NIT003)",
   "language": "python",
   "name": "nit003"
  },
  "language_info": {
   "codemirror_mode": {
    "name": "ipython",
    "version": 3
   },
   "file_extension": ".py",
   "mimetype": "text/x-python",
   "name": "python",
   "nbconvert_exporter": "python",
   "pygments_lexer": "ipython3",
   "version": "3.9.18"
  }
 },
 "nbformat": 4,
 "nbformat_minor": 2
}
