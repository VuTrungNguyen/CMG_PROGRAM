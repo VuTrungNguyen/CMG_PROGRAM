{
 "cells": [
  {
   "cell_type": "code",
   "execution_count": 1,
   "metadata": {},
   "outputs": [],
   "source": [
    "# We will employ BM25 to rank the documents - MedQA-USMLE dataset, to search for relevant documents of keywords: Colonoscopy\n",
    "search_terms = [\"Colonic Diseases\", \"Gastroenterology\", \"Gastrointestinal Diseases\", \"Gastrointestinal Endoscopy\", \"Gastrointestinal Hemorrhage\", \"Gastrointestinal Tract\", \"Gastrointestinal Neoplasms\", \"Gastrointestinal Stromal Tumors\", \"Gastrointestinal Motility Disorders\", \"Gastrointestinal Agents\", \"Gastrointestinal Hormones\", \"Gastrointestinal Microbiome\", \"Gastrointestinal Microbiota\", \"Gastrointestinal Mucosa\", \"Gastrointestinal Perforation\", \"Gastrointestinal Polyps\", \"Gastrointestinal Transit\", \"Gastrointestinal Tube\", \"Gastrointestinal Ulcer\", \"Gastrointestinal Volvulus\", \"Gastrointestinal Fistula\", \"Gastrointestinal Hemorrhage\", \"Gastrointestinal Intubation\", \"Gastrointestinal Lavage\", \"Gastrointestinal Motility\", \"Gastrointestinal Neoplasms\", \"Gastrointestinal Hormones\", \"Gastrointestinal Agents\"]"
   ]
  },
  {
   "cell_type": "code",
   "execution_count": 23,
   "metadata": {},
   "outputs": [
    {
     "data": {
      "text/plain": [
       "28"
      ]
     },
     "execution_count": 23,
     "metadata": {},
     "output_type": "execute_result"
    }
   ],
   "source": [
    "len(search_terms)"
   ]
  },
  {
   "cell_type": "code",
   "execution_count": 2,
   "metadata": {},
   "outputs": [],
   "source": [
    "# Community finding and ranking using LLMs:\n",
    "community_prompt = f\"Groups and ranks these medical term {search_terms} on how relevant they are to 'colonoscopy'\""
   ]
  },
  {
   "cell_type": "code",
   "execution_count": 7,
   "metadata": {},
   "outputs": [
    {
     "name": "stdout",
     "output_type": "stream",
     "text": [
      "Groups and ranks these medical term ['Colonic Diseases', 'Gastroenterology', 'Gastrointestinal Diseases', 'Gastrointestinal Endoscopy', 'Gastrointestinal Hemorrhage', 'Gastrointestinal Tract', 'Gastrointestinal Neoplasms', 'Gastrointestinal Stromal Tumors', 'Gastrointestinal Motility Disorders', 'Gastrointestinal Agents', 'Gastrointestinal Hormones', 'Gastrointestinal Microbiome', 'Gastrointestinal Microbiota', 'Gastrointestinal Mucosa', 'Gastrointestinal Perforation', 'Gastrointestinal Polyps', 'Gastrointestinal Transit', 'Gastrointestinal Tube', 'Gastrointestinal Ulcer', 'Gastrointestinal Volvulus', 'Gastrointestinal Fistula', 'Gastrointestinal Hemorrhage', 'Gastrointestinal Intubation', 'Gastrointestinal Lavage', 'Gastrointestinal Motility', 'Gastrointestinal Neoplasms', 'Gastrointestinal Hormones', 'Gastrointestinal Agents'] on how relevant they are to 'colonoscopy'\n"
     ]
    }
   ],
   "source": [
    "print(community_prompt)"
   ]
  },
  {
   "cell_type": "code",
   "execution_count": 3,
   "metadata": {},
   "outputs": [],
   "source": [
    "import pandas as pd\n",
    "from openai import OpenAI\n",
    "from langchain_openai import ChatOpenAI\n",
    "\n",
    "openai_apikey = \"sk-proj-pjGUyMNiHPDiH7CLYv4rT3BlbkFJQpZiY1U0sYAqOATygpnJ\"\n",
    "openai_chat_model = \"gpt-4o-mini\""
   ]
  },
  {
   "cell_type": "code",
   "execution_count": 5,
   "metadata": {},
   "outputs": [],
   "source": [
    "# initialize the OpenAI chat model\n",
    "llm = ChatOpenAI(\n",
    "    model=openai_chat_model,\n",
    "    api_key=openai_apikey,\n",
    "    temperature=0.0,\n",
    "    max_tokens=None\n",
    ")"
   ]
  },
  {
   "cell_type": "code",
   "execution_count": 15,
   "metadata": {},
   "outputs": [],
   "source": [
    "# get the response from the model\n",
    "def rank_colonoscopy_llm(prompt):\n",
    "    message = [\n",
    "        (\n",
    "            \"system\",\n",
    "            \"You are a helpful medical expert. Help the user in their task\",\n",
    "        ),\n",
    "        (\n",
    "            \"human\",\n",
    "            prompt\n",
    "        )\n",
    "    ]\n",
    "    response = llm.invoke(message)\n",
    "    return response"
   ]
  },
  {
   "cell_type": "code",
   "execution_count": 16,
   "metadata": {},
   "outputs": [],
   "source": [
    "response_rank_colonoscopy_llm = rank_colonoscopy_llm(prompt=community_prompt)"
   ]
  },
  {
   "cell_type": "code",
   "execution_count": 22,
   "metadata": {},
   "outputs": [
    {
     "data": {
      "text/markdown": [
       "To rank the medical terms based on their relevance to \"colonoscopy,\" we can categorize them into groups: those directly related to the procedure, those related to the field of study, and those that are more general or less directly related. Here’s a suggested ranking:\n",
       "\n",
       "### Highly Relevant to Colonoscopy\n",
       "1. **Gastrointestinal Endoscopy** - Directly involves the procedure of colonoscopy.\n",
       "2. **Gastrointestinal Tract** - The area being examined during a colonoscopy.\n",
       "3. **Gastrointestinal Polyps** - Common findings during colonoscopy that may require removal.\n",
       "4. **Gastrointestinal Ulcer** - Conditions that may be diagnosed during a colonoscopy.\n",
       "5. **Gastrointestinal Hemorrhage** - A potential reason for performing a colonoscopy.\n",
       "6. **Gastrointestinal Fistula** - May be evaluated during a colonoscopy.\n",
       "7. **Gastrointestinal Perforation** - A serious complication that can be assessed via colonoscopy.\n",
       "8. **Gastrointestinal Motility Disorders** - May be relevant in the context of bowel preparation and function.\n",
       "\n",
       "### Moderately Relevant\n",
       "9. **Colonic Diseases** - Encompasses conditions that may be diagnosed via colonoscopy.\n",
       "10. **Gastrointestinal Diseases** - Broader category that includes conditions relevant to colonoscopy.\n",
       "11. **Gastrointestinal Neoplasms** - Tumors that may be detected during colonoscopy.\n",
       "12. **Gastrointestinal Microbiome** - While not directly related, it can influence gastrointestinal health and conditions assessed during colonoscopy.\n",
       "13. **Gastrointestinal Microbiota** - Similar to microbiome, relevant to gut health.\n",
       "14. **Gastrointestinal Motility** - Related to the function of the GI tract, which can affect colonoscopy outcomes.\n",
       "\n",
       "### Less Relevant\n",
       "15. **Gastrointestinal Agents** - Medications that may be used in the treatment of GI conditions but not directly related to the procedure.\n",
       "16. **Gastrointestinal Hormones** - While they play a role in GI function, they are not directly related to colonoscopy.\n",
       "17. **Gastrointestinal Transit** - Related to the movement through the GI tract but less directly tied to colonoscopy.\n",
       "18. **Gastrointestinal Intubation** - A technique that may be used in various procedures but not specific to colonoscopy.\n",
       "19. **Gastrointestinal Lavage** - Related to bowel preparation but not a direct aspect of the colonoscopy itself.\n",
       "20. **Gastrointestinal Volvulus** - A condition that may be diagnosed but is less common in the context of colonoscopy.\n",
       "21. **Gastrointestinal Stromal Tumors** - A specific type of tumor that may be found but is less common than other neoplasms.\n",
       "\n",
       "### Duplicate Terms\n",
       "- **Gastrointestinal Hemorrhage** (listed twice)\n",
       "- **Gastrointestinal Neoplasms** (listed twice)\n",
       "- **Gastrointestinal Hormones** (listed twice)\n",
       "- **Gastrointestinal Agents** (listed twice)\n",
       "\n",
       "This ranking is based on the direct relevance of each term to the procedure of colonoscopy, with a focus on conditions, techniques, and areas of study that are most pertinent to the examination and diagnosis performed during the procedure."
      ],
      "text/plain": [
       "<IPython.core.display.Markdown object>"
      ]
     },
     "metadata": {},
     "output_type": "display_data"
    }
   ],
   "source": [
    "from IPython.display import display, Markdown\n",
    "display(Markdown(response_rank_colonoscopy_llm.content))"
   ]
  }
 ],
 "metadata": {
  "kernelspec": {
   "display_name": "Python (NIT003)",
   "language": "python",
   "name": "nit003"
  },
  "language_info": {
   "codemirror_mode": {
    "name": "ipython",
    "version": 3
   },
   "file_extension": ".py",
   "mimetype": "text/x-python",
   "name": "python",
   "nbconvert_exporter": "python",
   "pygments_lexer": "ipython3",
   "version": "3.9.18"
  }
 },
 "nbformat": 4,
 "nbformat_minor": 2
}
