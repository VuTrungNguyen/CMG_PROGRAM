{
 "cells": [
  {
   "cell_type": "code",
   "execution_count": 1,
   "id": "56a2fb89-5160-44e8-9621-c9d3f8087bf9",
   "metadata": {
    "tags": []
   },
   "outputs": [],
   "source": [
    "import requests\n",
    "import openai \n",
    "import pandas as pd"
   ]
  },
  {
   "cell_type": "code",
   "execution_count": 6,
   "id": "0786ac47-de37-4d68-9cec-99f7e4e4eedd",
   "metadata": {
    "tags": []
   },
   "outputs": [],
   "source": [
    "mypath= r\"C:\\Users\\PC\\NIT6001\\CMG_prog_v2\"\n",
    "process_knowledge_filename=r\"\\CMG_article_process_knowledge.xlsx\"\n",
    "process_knowledge_file_fullpath=mypath+process_knowledge_filename"
   ]
  },
  {
   "cell_type": "code",
   "execution_count": 3,
   "id": "7a274ff8-9462-400f-83fb-2fad6c0dd63d",
   "metadata": {
    "tags": []
   },
   "outputs": [],
   "source": [
    "api_key =\"\"\n",
    "organization= \"\"\n",
    "project= \"\""
   ]
  },
  {
   "cell_type": "code",
   "execution_count": null,
   "id": "78ccc56e-a4f4-4e09-946d-1c48d5a4ff49",
   "metadata": {},
   "outputs": [],
   "source": [
    "def read_api_key(process_knowledge_file_fullpath):    \n",
    "    df = pd.read_excel(process_knowledge_file_fullpath, sheet_name=\"knowledge\", engine='openpyxl')\n",
    "    filtered_df = df[(df['knowledge_area'] == \"chatgpt_apikey\") ]\n",
    "    if filtered_df.empty: \n",
    "        print (\"\\n Could not read the ChatGPT apikey.\\n\")   \n",
    "        return \"no_apikey\"    \n",
    "    else:\n",
    "        api_key=filtered_df.iloc[0]['knowledge']\n",
    "        return api_key"
   ]
  },
  {
   "cell_type": "code",
   "execution_count": null,
   "id": "dc33ce0c-95b7-4199-a094-12b8bdf51246",
   "metadata": {
    "tags": []
   },
   "outputs": [],
   "source": [
    "df = pd.read_excel(process_knowledge_file_fullpath, sheet_name=\"knowledge\", engine='openpyxl')\n",
    "filtered_df = df[(df['knowledge_area'] == \"chatgpt_apikey\"),\n",
    "                 (df['knowledge_area'] == \"chatgpt_organization\"),\n",
    "                 (df['knowledge_area'] == \"chatgpt_project\") \n",
    "                ]\n",
    "if filtered_df.empty: \n",
    "    print (\"\\n Could not read the ChatGPT apikey.\\n\")   \n",
    "    print(\"no_apikey\")    \n",
    "else:\n",
    "    api_key=filtered_df.iloc[0]['knowledge']\n",
    "print(api_key)"
   ]
  },
  {
   "cell_type": "code",
   "execution_count": 15,
   "id": "7940d146-212d-409e-80a7-78fa267ce053",
   "metadata": {
    "tags": []
   },
   "outputs": [
    {
     "name": "stdout",
     "output_type": "stream",
     "text": [
      "['sk-proj-pjGUyMNiHPDiH7CLYv4rT3BlbkFJQpZiY1U0sYAqOATygpnJ', 'org-UwdtTWVA8m7W2PxkJfK0Y6Bk', 'proj_fskMYW8tFnU2N8vV9fOaQooF']\n"
     ]
    }
   ],
   "source": [
    "import pandas as pd\n",
    "\n",
    "def extract_chatgpt_api_key(file_path, sheet_name, knowledge_areas):\n",
    "    try:\n",
    "        df = pd.read_excel(file_path, sheet_name=sheet_name, engine='openpyxl')\n",
    "        filtered_df = df[df['knowledge_area'].isin([\"chatgpt_apikey\", \"chatgpt_organization\", \"chatgpt_project\"])]  # More efficient filtering\n",
    "\n",
    "        if filtered_df.empty:   \n",
    "            print(\"\\nChatGPT API Key, Organization, or Project not found in the Excel file. Please check the '{}' sheet.\\n\".format(sheet_name))\n",
    "            return \"no_apikey\"  \n",
    "\n",
    "        return filtered_df['knowledge'].iloc[:3].tolist()\n",
    "\n",
    "    except FileNotFoundError:\n",
    "        print(\"\\nError: Excel file '{}' not found.\\n\".format(file_path))\n",
    "        return \"no_apikey\"\n",
    "\n",
    "# Example usage\n",
    "file_path = process_knowledge_file_fullpath\n",
    "sheet_name = \"knowledge\"\n",
    "knowledge_areas = [\"chatgpt_apikey\", \"chatgpt_organization\", \"chatgpt_project\"]\n",
    "\n",
    "api_key = extract_chatgpt_api_key(file_path, sheet_name, knowledge_areas)\n",
    "if api_key != \"no_apikey\":\n",
    "    print(api_key) \n"
   ]
  }
 ],
 "metadata": {
  "kernelspec": {
   "display_name": "Python (NIT003)",
   "language": "python",
   "name": "nit003"
  },
  "language_info": {
   "codemirror_mode": {
    "name": "ipython",
    "version": 3
   },
   "file_extension": ".py",
   "mimetype": "text/x-python",
   "name": "python",
   "nbconvert_exporter": "python",
   "pygments_lexer": "ipython3",
   "version": "3.9.18"
  }
 },
 "nbformat": 4,
 "nbformat_minor": 5
}
